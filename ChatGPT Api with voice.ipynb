{
 "cells": [
  {
   "cell_type": "code",
   "execution_count": 6,
   "id": "6d906dd1",
   "metadata": {},
   "outputs": [
    {
     "name": "stdout",
     "output_type": "stream",
     "text": [
      "Listening...\n",
      "Sorry, I couldn't understand the audio.\n",
      "Chatbot: I didn't quite catch that.?\n",
      "Listening...\n",
      "You: exit\n"
     ]
    }
   ],
   "source": [
    "import openai\n",
    "import pyttsx3\n",
    "import asyncio\n",
    "import nest_asyncio\n",
    "import speech_recognition as sr\n",
    "#Before importing make sure that they are installed in your system, if not, install them with pip install command\n",
    "\n",
    "nest_asyncio.apply()\n",
    "\n",
    "openai.api_key = \"Your OpenAI Api Key\"\n",
    "\n",
    "def chat_with_gpt(input_text):\n",
    "    response = openai.ChatCompletion.create(\n",
    "        model=\"gpt-3.5-turbo\",\n",
    "        messages=[{\"role\": \"user\", \"content\": input_text}]\n",
    "    )\n",
    "\n",
    "    reply_content = response.choices[0].message.content.strip()\n",
    "\n",
    "    if len(reply_content.split()) > 50:\n",
    "        truncated_reply = ' '.join(reply_content.split()[:50])\n",
    "        return truncated_reply\n",
    "    else:\n",
    "        return reply_content\n",
    "\n",
    "def listen():\n",
    "    recognizer = sr.Recognizer()\n",
    "    microphone = sr.Microphone()\n",
    "\n",
    "    try:\n",
    "        print(\"Listening...\")\n",
    "        with microphone as source:\n",
    "            recognizer.adjust_for_ambient_noise(source, duration=1)\n",
    "            audio = recognizer.listen(source)\n",
    "\n",
    "        user_input = recognizer.recognize_google(audio)\n",
    "        print(\"You:\", user_input)\n",
    "        return user_input\n",
    "\n",
    "    except sr.UnknownValueError:\n",
    "        print(\"Sorry, I couldn't understand the audio.\")\n",
    "        return \"\"\n",
    "    except sr.RequestError as e:\n",
    "        print(f\"Error fetching results from Google Speech Recognition service; {e}\")\n",
    "        return \"\"\n",
    "\n",
    "def speak(response):\n",
    "    engine = pyttsx3.init()\n",
    "    engine.say(response)\n",
    "    engine.runAndWait()\n",
    "\n",
    "async def main():\n",
    "    while True:\n",
    "        user_input = listen()\n",
    "\n",
    "        if user_input.lower() in [\"quit\", \"exit\", \"bye\"]:\n",
    "            break\n",
    "\n",
    "        if user_input:\n",
    "            response = chat_with_gpt(user_input)\n",
    "        else:\n",
    "            response = generate_response(user_input)\n",
    "\n",
    "            print(\"Chatbot:\", response)\n",
    "            speak(response)\n",
    "\n",
    "if __name__ == \"__main__\":\n",
    "    asyncio.run(main())\n"
   ]
  },
  {
   "cell_type": "code",
   "execution_count": null,
   "id": "d48a7fe8-dfb8-4d4e-bb1d-1ed17e35c4ae",
   "metadata": {},
   "outputs": [],
   "source": []
  }
 ],
 "metadata": {
  "kernelspec": {
   "display_name": "Python 3 (ipykernel)",
   "language": "python",
   "name": "python3"
  },
  "language_info": {
   "codemirror_mode": {
    "name": "ipython",
    "version": 3
   },
   "file_extension": ".py",
   "mimetype": "text/x-python",
   "name": "python",
   "nbconvert_exporter": "python",
   "pygments_lexer": "ipython3",
   "version": "3.12.4"
  }
 },
 "nbformat": 4,
 "nbformat_minor": 5
}
